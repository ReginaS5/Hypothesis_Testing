{
 "cells": [
  {
   "cell_type": "markdown",
   "metadata": {},
   "source": [
    "# Before you start:\n",
    "- Read the README.md file\n",
    "- Comment as much as you can and use the resources (README.md file)\n",
    "- Always state the H0 and H1 before conducting the hypothesis test.\n",
    "- Happy learning!"
   ]
  },
  {
   "cell_type": "code",
   "execution_count": 1,
   "metadata": {},
   "outputs": [],
   "source": [
    "import pandas as pd\n",
    "import numpy as np "
   ]
  },
  {
   "cell_type": "markdown",
   "metadata": {},
   "source": [
    "# Challenge 1 - Exploring the Data\n",
    "\n",
    "In this challenge, we will examine all salaries of employees of the City of Chicago. We will start by loading the dataset and examining its contents. "
   ]
  },
  {
   "cell_type": "code",
   "execution_count": 2,
   "metadata": {},
   "outputs": [],
   "source": [
    "# Your code here:\n",
    "file_path = \"Current_Employee_Names__Salaries__and_Position_Titles.csv\"\n",
    "data = pd.read_csv(file_path)"
   ]
  },
  {
   "cell_type": "markdown",
   "metadata": {},
   "source": [
    "Examine the `salaries` dataset using the `head` function below."
   ]
  },
  {
   "cell_type": "code",
   "execution_count": 3,
   "metadata": {},
   "outputs": [
    {
     "name": "stdout",
     "output_type": "stream",
     "text": [
      "                     Name                 Job Titles        Department  \\\n",
      "0  ADRIANO,  RACQUEL ANNE                  PARAMEDIC              FIRE   \n",
      "1       AFFANEH,  MAHIR A             POLICE OFFICER            POLICE   \n",
      "2       AFOENYI,  PHYLLIS  TITLE V PROGRAM TRAINEE I  FAMILY & SUPPORT   \n",
      "3         AGAR,  BULENT B        DEPUTY COMMISSIONER       WATER MGMNT   \n",
      "4         AGEE,  LAWRENCE             POLICE OFFICER            POLICE   \n",
      "\n",
      "  Full or Part-Time Salary or Hourly  Typical Hours  Annual Salary  \\\n",
      "0                 F           Salary            NaN        72510.0   \n",
      "1                 F           Salary            NaN        93354.0   \n",
      "2                 P           Hourly           20.0            NaN   \n",
      "3                 F           Salary            NaN       132972.0   \n",
      "4                 F           Salary            NaN        90024.0   \n",
      "\n",
      "   Hourly Rate  \n",
      "0          NaN  \n",
      "1          NaN  \n",
      "2         13.0  \n",
      "3          NaN  \n",
      "4          NaN  \n"
     ]
    }
   ],
   "source": [
    "# Your code here:\n",
    "print(data.head())"
   ]
  },
  {
   "cell_type": "markdown",
   "metadata": {},
   "source": [
    "We see from looking at the `head` function that there is quite a bit of missing data. Let's examine how much missing data is in each column. Produce this output in the cell below"
   ]
  },
  {
   "cell_type": "code",
   "execution_count": 4,
   "metadata": {},
   "outputs": [
    {
     "name": "stdout",
     "output_type": "stream",
     "text": [
      "Name                     0\n",
      "Job Titles               0\n",
      "Department               0\n",
      "Full or Part-Time        0\n",
      "Salary or Hourly         0\n",
      "Typical Hours        25528\n",
      "Annual Salary         8174\n",
      "Hourly Rate          25528\n",
      "dtype: int64\n"
     ]
    }
   ],
   "source": [
    "# Your code here:\n",
    "missing_data = data.isnull().sum()\n",
    "print(missing_data)"
   ]
  },
  {
   "cell_type": "markdown",
   "metadata": {},
   "source": [
    "Let's also look at the count of hourly vs. salaried employees. Write the code in the cell below"
   ]
  },
  {
   "cell_type": "code",
   "execution_count": 5,
   "metadata": {},
   "outputs": [
    {
     "name": "stdout",
     "output_type": "stream",
     "text": [
      "Salary or Hourly\n",
      "Salary    25528\n",
      "Hourly     8174\n",
      "Name: count, dtype: int64\n"
     ]
    }
   ],
   "source": [
    "# Your code here:\n",
    "employee_types = data['Salary or Hourly'].value_counts()\n",
    "print(employee_types)"
   ]
  },
  {
   "cell_type": "markdown",
   "metadata": {},
   "source": [
    "What this information indicates is that the table contains information about two types of employees - salaried and hourly. Some columns apply only to one type of employee while other columns only apply to another kind. This is why there are so many missing values. Therefore, we will not do anything to handle the missing values."
   ]
  },
  {
   "cell_type": "markdown",
   "metadata": {},
   "source": [
    "There are different departments in the city. List all departments and the count of employees in each department."
   ]
  },
  {
   "cell_type": "code",
   "execution_count": 6,
   "metadata": {},
   "outputs": [
    {
     "name": "stdout",
     "output_type": "stream",
     "text": [
      "Department\n",
      "POLICE                 13848\n",
      "FIRE                    4627\n",
      "STREETS & SAN           2175\n",
      "WATER MGMNT             1914\n",
      "AVIATION                1856\n",
      "OEMC                    1737\n",
      "TRANSPORTN              1113\n",
      "PUBLIC LIBRARY          1088\n",
      "DAIS                    1033\n",
      "FAMILY & SUPPORT         656\n",
      "FINANCE                  544\n",
      "HEALTH                   467\n",
      "LAW                      398\n",
      "CITY COUNCIL             362\n",
      "BUILDINGS                258\n",
      "PUBLIC SAFETY ADMIN      244\n",
      "BUSINESS AFFAIRS         167\n",
      "HOUSING & ECON DEV       154\n",
      "COPA                     123\n",
      "BOARD OF ELECTION        111\n",
      "MAYOR'S OFFICE           104\n",
      "INSPECTOR GEN             95\n",
      "CITY CLERK                88\n",
      "PROCUREMENT               84\n",
      "HUMAN RESOURCES           75\n",
      "ANIMAL CONTRL             75\n",
      "CULTURAL AFFAIRS          74\n",
      "HOUSING                   66\n",
      "BUDGET & MGMT             44\n",
      "ADMIN HEARNG              38\n",
      "DISABILITIES              28\n",
      "TREASURER                 28\n",
      "HUMAN RELATIONS           17\n",
      "BOARD OF ETHICS            8\n",
      "POLICE BOARD               2\n",
      "LICENSE APPL COMM          1\n",
      "Name: count, dtype: int64\n"
     ]
    }
   ],
   "source": [
    "# Your code here:\n",
    "department_counts = data['Department'].value_counts()\n",
    "print(department_counts)"
   ]
  },
  {
   "cell_type": "markdown",
   "metadata": {},
   "source": [
    "# Challenge 2 - Hypothesis Tests\n",
    "\n",
    "In this section of the lab, we will test whether the hourly wage of all hourly workers is significantly different from $30/hr. Import the correct one sample test function from scipy and perform the hypothesis test for a 95% two sided confidence interval."
   ]
  },
  {
   "cell_type": "code",
   "execution_count": 7,
   "metadata": {},
   "outputs": [],
   "source": [
    "# Your code here:\n",
    "from scipy.stats import ttest_1samp\n",
    "\n",
    "hourly_wages = data[data['Salary or Hourly'] == 'Hourly']['Hourly Rate'].dropna()\n",
    "\n",
    "null_hypothesis_value = 30\n",
    "\n",
    "t_statistic, p_value = ttest_1samp(hourly_wages, null_hypothesis_value)\n"
   ]
  },
  {
   "cell_type": "code",
   "execution_count": 8,
   "metadata": {},
   "outputs": [
    {
     "name": "stdout",
     "output_type": "stream",
     "text": [
      "T-statistic: 31.211500329216044\n",
      "P-value: 3.825475847673794e-202\n",
      "The null hypothesis can be rejected\n"
     ]
    }
   ],
   "source": [
    "print(f'T-statistic: {t_statistic}')\n",
    "print(f'P-value: {p_value}')\n",
    "\n",
    "alpha = 0.05\n",
    "if p_value < alpha:\n",
    "    print('The null hypothesis can be rejected')\n",
    "else:\n",
    "    print('The null hypothesis cannot be rejected')"
   ]
  },
  {
   "cell_type": "markdown",
   "metadata": {},
   "source": [
    "We are also curious about salaries in the police force. The chief of police in Chicago claimed in a press briefing that salaries this year are higher than last year's mean of $86000/year a year for all salaried employees. Test this one sided hypothesis using a 95% confidence interval.\n",
    "\n",
    "Hint: A one tailed test has a p-value that is half of the two tailed p-value. If our Null hypothesis is less than or equal to, then to reject, the test statistic must be positive (rejects the <) and the p-value below 0.05 (rejects the =)."
   ]
  },
  {
   "cell_type": "code",
   "execution_count": 9,
   "metadata": {},
   "outputs": [
    {
     "name": "stdout",
     "output_type": "stream",
     "text": [
      "T-statistic: 18.51748561981861\n",
      "P-value: 3.059783476060741e-76\n",
      "The null hypothesis can be rejected\n"
     ]
    }
   ],
   "source": [
    "# Your code here:\n",
    "\n",
    "police_salaries = data[(data['Department'] == 'POLICE') & (data['Salary or Hourly'] == 'Salary')]['Annual Salary'].dropna()\n",
    "\n",
    "null_hypothesis_value = 86000\n",
    "\n",
    "t_statistic, p_value = ttest_1samp(police_salaries, null_hypothesis_value, alternative='greater')\n",
    "\n",
    "print(f'T-statistic: {t_statistic}')\n",
    "print(f'P-value: {p_value/2}') \n",
    "\n",
    "alpha = 0.05\n",
    "if p_value < alpha:\n",
    "    print('The null hypothesis can be rejected')\n",
    "else:\n",
    "    print('The null hypothesis cannot be rejected')"
   ]
  },
  {
   "cell_type": "markdown",
   "metadata": {},
   "source": [
    "Using the `crosstab` function, find the department that has the most hourly workers. "
   ]
  },
  {
   "cell_type": "code",
   "execution_count": 10,
   "metadata": {},
   "outputs": [
    {
     "name": "stdout",
     "output_type": "stream",
     "text": [
      "The department with the most hourly workers is STREETS & SAN with 1846 hourly workers.\n"
     ]
    }
   ],
   "source": [
    "# Your code here:\n",
    "cross_tab = pd.crosstab(data['Department'], data['Salary or Hourly'])\n",
    "\n",
    "department_with_most_hourly = cross_tab['Hourly'].idxmax()\n",
    "\n",
    "print(f\"The department with the most hourly workers is {department_with_most_hourly} with {cross_tab.loc[department_with_most_hourly, 'Hourly']} hourly workers.\")"
   ]
  },
  {
   "cell_type": "markdown",
   "metadata": {},
   "source": [
    "The workers from the department with the most hourly workers have complained that their hourly wage is less than $35/hour. Using a one sample t-test, test this one-sided hypothesis at the 95% confidence level."
   ]
  },
  {
   "cell_type": "code",
   "execution_count": 11,
   "metadata": {},
   "outputs": [
    {
     "name": "stdout",
     "output_type": "stream",
     "text": [
      "T-statistic: 4.000138803968834\n",
      "P-value: 0.49998354881389057\n",
      "The null hypothesis cannot be rejected\n"
     ]
    }
   ],
   "source": [
    "# Your code here:\n",
    "\n",
    "department_with_most_hourly = cross_tab['Hourly'].idxmax()\n",
    "department_data = data[(data['Department'] == department_with_most_hourly) & (data['Salary or Hourly'] == 'Hourly')]\n",
    "\n",
    "hourly_wages = department_data['Hourly Rate'].dropna()\n",
    "\n",
    "null_hypothesis_value = 35\n",
    "\n",
    "t_statistic, p_value = ttest_1samp(hourly_wages, null_hypothesis_value, alternative='less')\n",
    "\n",
    "print(f'T-statistic: {t_statistic}')\n",
    "print(f'P-value: {p_value/2}')\n",
    "\n",
    "alpha = 0.05\n",
    "if p_value < alpha:\n",
    "    print('The null hypothesis can be rejected')\n",
    "else:\n",
    "    print('The null hypothesis cannot be rejected')"
   ]
  },
  {
   "cell_type": "markdown",
   "metadata": {},
   "source": [
    "# Challenge 3: To practice - Constructing Confidence Intervals\n",
    "\n",
    "While testing our hypothesis is a great way to gather empirical evidence for accepting or rejecting the hypothesis, another way to gather evidence is by creating a confidence interval. A confidence interval gives us information about the true mean of the population. So for a 95% confidence interval, we are 95% sure that the mean of the population is within the confidence interval. \n",
    ").\n",
    "\n",
    "To read more about confidence intervals, click [here](https://en.wikipedia.org/wiki/Confidence_interval).\n",
    "\n",
    "\n",
    "In the cell below, we will construct a 95% confidence interval for the mean hourly wage of all hourly workers. \n",
    "\n",
    "The confidence interval is computed in SciPy using the `t.interval` function. You can read more about this function [here](https://docs.scipy.org/doc/scipy-0.14.0/reference/generated/scipy.stats.t.html).\n",
    "\n",
    "To compute the confidence interval of the hourly wage, use the 0.95 for the confidence level, number of rows - 1 for degrees of freedom, the mean of the sample for the location parameter and the standard error for the scale. The standard error can be computed using [this](https://docs.scipy.org/doc/scipy/reference/generated/scipy.stats.sem.html) function in SciPy."
   ]
  },
  {
   "cell_type": "code",
   "execution_count": 12,
   "metadata": {},
   "outputs": [
    {
     "name": "stdout",
     "output_type": "stream",
     "text": [
      "The 95% confidence interval for the mean hourly wage is: (34.29839539204317, 34.874504045196865)\n"
     ]
    }
   ],
   "source": [
    "# Your code here:\n",
    "\n",
    "from scipy import stats\n",
    "\n",
    "hourly_wages = data[data['Salary or Hourly'] == 'Hourly']['Hourly Rate'].dropna()\n",
    "\n",
    "mean_wage = hourly_wages.mean()\n",
    "std_error = stats.sem(hourly_wages)\n",
    "\n",
    "confidence_level = 0.95\n",
    "degrees_freedom = len(hourly_wages) - 1\n",
    "confidence_interval = stats.t.interval(confidence_level, degrees_freedom, loc=mean_wage, scale=std_error)\n",
    "\n",
    "print(f\"The 95% confidence interval for the mean hourly wage is: ({confidence_interval[0]}, {confidence_interval[1]})\")"
   ]
  },
  {
   "cell_type": "markdown",
   "metadata": {},
   "source": [
    "Now construct the 95% confidence interval for all salaried employeed in the police in the cell below."
   ]
  },
  {
   "cell_type": "code",
   "execution_count": 13,
   "metadata": {},
   "outputs": [
    {
     "name": "stdout",
     "output_type": "stream",
     "text": [
      "The 95% confidence interval for the mean salary of police department employees is: (88534.1182885883, 89134.11955863392)\n"
     ]
    }
   ],
   "source": [
    "# Your code here:\n",
    "police_salaries = data[(data['Department'] == 'POLICE') & (data['Salary or Hourly'] == 'Salary')]['Annual Salary'].dropna()\n",
    "\n",
    "mean_salary = police_salaries.mean()\n",
    "std_error = stats.sem(police_salaries)\n",
    "\n",
    "confidence_level = 0.95\n",
    "degrees_freedom = len(police_salaries) - 1\n",
    "confidence_interval = stats.t.interval(confidence_level, degrees_freedom, loc=mean_salary, scale=std_error)\n",
    "\n",
    "print(f\"The 95% confidence interval for the mean salary of police department employees is: ({confidence_interval[0]}, {confidence_interval[1]})\")"
   ]
  },
  {
   "cell_type": "markdown",
   "metadata": {},
   "source": [
    "# Bonus Challenge - Hypothesis Tests of Proportions\n",
    "\n",
    "Another type of one sample test is a hypothesis test of proportions. In this test, we examine whether the proportion of a group in our sample is significantly different than a fraction. \n",
    "\n",
    "You can read more about one sample proportion tests [here](http://sphweb.bumc.bu.edu/otlt/MPH-Modules/BS/SAS/SAS6-CategoricalData/SAS6-CategoricalData2.html).\n",
    "\n",
    "In the cell below, use the `proportions_ztest` function from `statsmodels` to perform a hypothesis test that will determine whether the number of hourly workers in the City of Chicago is significantly different from 25% at the 95% confidence level."
   ]
  },
  {
   "cell_type": "code",
   "execution_count": 14,
   "metadata": {},
   "outputs": [
    {
     "name": "stdout",
     "output_type": "stream",
     "text": [
      "Z-statistic: -3.1962453870335\n",
      "P-value: 0.0013922864704323116\n",
      "The null hypothesis can be rejected\n"
     ]
    }
   ],
   "source": [
    "# Your code here:\n",
    "\n",
    "from statsmodels.stats.proportion import proportions_ztest\n",
    "\n",
    "num_hourly = len(data[data['Salary or Hourly'] == 'Hourly'])\n",
    "\n",
    "total_workers = len(data)\n",
    "\n",
    "null_proportion = 0.25\n",
    "\n",
    "statistic, p_value = proportions_ztest(num_hourly, total_workers, null_proportion)\n",
    "\n",
    "print(f'Z-statistic: {statistic}')\n",
    "print(f'P-value: {p_value}')\n",
    "\n",
    "alpha = 0.05\n",
    "if p_value < alpha:\n",
    "    print('The null hypothesis can be rejected')\n",
    "else:\n",
    "    print('The null hypothesis cannot be rejected')"
   ]
  },
  {
   "cell_type": "code",
   "execution_count": null,
   "metadata": {},
   "outputs": [],
   "source": []
  }
 ],
 "metadata": {
  "kernelspec": {
   "display_name": "Python 3 (ipykernel)",
   "language": "python",
   "name": "python3"
  },
  "language_info": {
   "codemirror_mode": {
    "name": "ipython",
    "version": 3
   },
   "file_extension": ".py",
   "mimetype": "text/x-python",
   "name": "python",
   "nbconvert_exporter": "python",
   "pygments_lexer": "ipython3",
   "version": "3.11.4"
  }
 },
 "nbformat": 4,
 "nbformat_minor": 2
}
